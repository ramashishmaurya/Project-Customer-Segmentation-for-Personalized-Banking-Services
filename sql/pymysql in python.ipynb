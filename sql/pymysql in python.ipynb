{
 "cells": [
  {
   "cell_type": "code",
   "execution_count": 7,
   "id": "8c447a14-8fae-4d11-b76b-9329c92ece6c",
   "metadata": {},
   "outputs": [],
   "source": [
    "import pandas as pd \n",
    "import pymysql\n",
    "\n",
    "# mysql connector \n",
    "connection = pymysql.connect(\n",
    "    host='localhost',\n",
    "    user='root',\n",
    "    password='ashish123',\n",
    "    database='segment'\n",
    ")"
   ]
  },
  {
   "cell_type": "code",
   "execution_count": 12,
   "id": "7c6af629-d1d8-4d99-8462-2b56dc1c38a4",
   "metadata": {},
   "outputs": [],
   "source": [
    "query = \"SELECT * FROM customers LIMIT 5;\"\n",
    "cursor.execute(query)\n",
    "connection.commit()"
   ]
  },
  {
   "cell_type": "code",
   "execution_count": 9,
   "id": "2be49637-ff1e-424f-aaac-c23c71757e27",
   "metadata": {},
   "outputs": [
    {
     "data": {
      "text/plain": [
       "'SELECT * FROM customers LIMIT 5;'"
      ]
     },
     "execution_count": 9,
     "metadata": {},
     "output_type": "execute_result"
    }
   ],
   "source": [
    "query"
   ]
  },
  {
   "cell_type": "code",
   "execution_count": 10,
   "id": "2f78de81-3625-45d4-81c1-ded55d66951a",
   "metadata": {},
   "outputs": [],
   "source": [
    "cursor =  connection.cursor()"
   ]
  },
  {
   "cell_type": "code",
   "execution_count": 11,
   "id": "0a055515-8de9-4e34-a878-c22de36b90f9",
   "metadata": {},
   "outputs": [
    {
     "name": "stdout",
     "output_type": "stream",
     "text": [
      "(('customers',), ('transactions',))\n"
     ]
    }
   ],
   "source": [
    "cursor.execute(\"SHOW TABLES;\")\n",
    "tables = cursor.fetchall()\n",
    "print(tables)\n"
   ]
  },
  {
   "cell_type": "code",
   "execution_count": 36,
   "id": "19200acb-c11b-4927-869d-6aa6db9f4850",
   "metadata": {},
   "outputs": [],
   "source": [
    "q = '''select \n",
    "      gender ,\n",
    "      count(*) as count_gender\n",
    "      from customers\n",
    "      group by gender'''"
   ]
  },
  {
   "cell_type": "code",
   "execution_count": 37,
   "id": "f5687a06-a107-49fa-a010-9b00f68bf7f5",
   "metadata": {},
   "outputs": [
    {
     "data": {
      "text/plain": [
       "2"
      ]
     },
     "execution_count": 37,
     "metadata": {},
     "output_type": "execute_result"
    }
   ],
   "source": [
    "cursor.execute(q)"
   ]
  },
  {
   "cell_type": "code",
   "execution_count": 38,
   "id": "f3b62353-a1cc-4bc0-9d50-a7e9673bf721",
   "metadata": {},
   "outputs": [],
   "source": [
    "r = cursor.fetchall()"
   ]
  },
  {
   "cell_type": "code",
   "execution_count": 39,
   "id": "559761e7-8409-4b4f-aea7-61c5ef2968f2",
   "metadata": {},
   "outputs": [
    {
     "data": {
      "text/plain": [
       "(('F', 264), ('M', 236))"
      ]
     },
     "execution_count": 39,
     "metadata": {},
     "output_type": "execute_result"
    }
   ],
   "source": [
    "r"
   ]
  },
  {
   "cell_type": "code",
   "execution_count": 42,
   "id": "9ba304c9-6672-4e00-880f-2939d7e24314",
   "metadata": {},
   "outputs": [],
   "source": [
    "df =pd.read_csv(\"D:/Projects/Customer Segmentation/data/customers.csv\")"
   ]
  },
  {
   "cell_type": "code",
   "execution_count": 43,
   "id": "e5cf6213-c95e-46aa-a369-8aed8e8ad8a3",
   "metadata": {},
   "outputs": [
    {
     "data": {
      "text/html": [
       "<div>\n",
       "<style scoped>\n",
       "    .dataframe tbody tr th:only-of-type {\n",
       "        vertical-align: middle;\n",
       "    }\n",
       "\n",
       "    .dataframe tbody tr th {\n",
       "        vertical-align: top;\n",
       "    }\n",
       "\n",
       "    .dataframe thead th {\n",
       "        text-align: right;\n",
       "    }\n",
       "</style>\n",
       "<table border=\"1\" class=\"dataframe\">\n",
       "  <thead>\n",
       "    <tr style=\"text-align: right;\">\n",
       "      <th></th>\n",
       "      <th>customer_id</th>\n",
       "      <th>name</th>\n",
       "      <th>age</th>\n",
       "      <th>gender</th>\n",
       "      <th>income</th>\n",
       "      <th>occupation</th>\n",
       "      <th>city</th>\n",
       "    </tr>\n",
       "  </thead>\n",
       "  <tbody>\n",
       "    <tr>\n",
       "      <th>0</th>\n",
       "      <td>C0001</td>\n",
       "      <td>Stacy Wilson</td>\n",
       "      <td>45</td>\n",
       "      <td>F</td>\n",
       "      <td>127691</td>\n",
       "      <td>Designer</td>\n",
       "      <td>Kolkata</td>\n",
       "    </tr>\n",
       "    <tr>\n",
       "      <th>1</th>\n",
       "      <td>C0002</td>\n",
       "      <td>Jessica Khan</td>\n",
       "      <td>46</td>\n",
       "      <td>M</td>\n",
       "      <td>150464</td>\n",
       "      <td>Doctor</td>\n",
       "      <td>Chennai</td>\n",
       "    </tr>\n",
       "    <tr>\n",
       "      <th>2</th>\n",
       "      <td>C0003</td>\n",
       "      <td>Brian Garcia</td>\n",
       "      <td>62</td>\n",
       "      <td>F</td>\n",
       "      <td>115846</td>\n",
       "      <td>Designer</td>\n",
       "      <td>Kolkata</td>\n",
       "    </tr>\n",
       "    <tr>\n",
       "      <th>3</th>\n",
       "      <td>C0004</td>\n",
       "      <td>Travis Santiago</td>\n",
       "      <td>43</td>\n",
       "      <td>F</td>\n",
       "      <td>136684</td>\n",
       "      <td>Teacher</td>\n",
       "      <td>Delhi</td>\n",
       "    </tr>\n",
       "    <tr>\n",
       "      <th>4</th>\n",
       "      <td>C0005</td>\n",
       "      <td>Rachel Rivera</td>\n",
       "      <td>37</td>\n",
       "      <td>F</td>\n",
       "      <td>170764</td>\n",
       "      <td>Software Engineer</td>\n",
       "      <td>Bangalore</td>\n",
       "    </tr>\n",
       "  </tbody>\n",
       "</table>\n",
       "</div>"
      ],
      "text/plain": [
       "  customer_id             name  age gender  income         occupation  \\\n",
       "0       C0001     Stacy Wilson   45      F  127691           Designer   \n",
       "1       C0002     Jessica Khan   46      M  150464             Doctor   \n",
       "2       C0003     Brian Garcia   62      F  115846           Designer   \n",
       "3       C0004  Travis Santiago   43      F  136684            Teacher   \n",
       "4       C0005    Rachel Rivera   37      F  170764  Software Engineer   \n",
       "\n",
       "        city  \n",
       "0    Kolkata  \n",
       "1    Chennai  \n",
       "2    Kolkata  \n",
       "3      Delhi  \n",
       "4  Bangalore  "
      ]
     },
     "execution_count": 43,
     "metadata": {},
     "output_type": "execute_result"
    }
   ],
   "source": [
    "df.head()"
   ]
  },
  {
   "cell_type": "code",
   "execution_count": 51,
   "id": "f279363d-73a8-4c2a-be89-9808dd58d53b",
   "metadata": {},
   "outputs": [],
   "source": [
    "q ='''select \n",
    "   name \n",
    "   from customers\n",
    "   where age >40 '''"
   ]
  },
  {
   "cell_type": "code",
   "execution_count": 53,
   "id": "0803f4b9-e4b4-4d8a-9be8-3dba8ad127ee",
   "metadata": {},
   "outputs": [
    {
     "data": {
      "text/plain": [
       "275"
      ]
     },
     "execution_count": 53,
     "metadata": {},
     "output_type": "execute_result"
    }
   ],
   "source": [
    "cursor.execute(q)"
   ]
  },
  {
   "cell_type": "code",
   "execution_count": 54,
   "id": "19c58caf-9fb6-4474-abee-2b7ec53b2702",
   "metadata": {},
   "outputs": [
    {
     "data": {
      "text/plain": [
       "(('Stacy Wilson',),\n",
       " ('Jessica Khan',),\n",
       " ('Brian Garcia',),\n",
       " ('Travis Santiago',),\n",
       " ('Joyce Rosales',),\n",
       " ('Walter Jacobson',),\n",
       " ('Jimmy Cannon',),\n",
       " ('Rhonda Rogers',),\n",
       " ('Stephen Briggs',),\n",
       " ('Douglas Montoya',),\n",
       " ('Olivia Green',),\n",
       " ('Cassandra Mcconnell',),\n",
       " ('John Perez',),\n",
       " ('Dr. Tracie King',),\n",
       " ('Clayton Hernandez',),\n",
       " ('Andrea Villarreal',),\n",
       " ('Angela Taylor',),\n",
       " ('Christina Bradshaw',),\n",
       " ('Brian Moore',),\n",
       " ('Aaron Carter',),\n",
       " ('Blake Lopez',),\n",
       " ('Tony Smith',),\n",
       " ('Katherine Boone',),\n",
       " ('Travis Schmidt',),\n",
       " ('William Stevenson',),\n",
       " ('Maureen Mosley',),\n",
       " ('Russell Garcia',),\n",
       " ('Katie Hammond',),\n",
       " ('Kenneth Contreras',),\n",
       " ('Trevor Collier',),\n",
       " ('Randall Taylor',),\n",
       " ('Michelle Nguyen',),\n",
       " ('Margaret Ramirez',),\n",
       " ('Eric Williams',),\n",
       " ('Ashley Smith',),\n",
       " ('Timothy Levine',),\n",
       " ('Ashley Stanley',),\n",
       " ('Brandon Miller',),\n",
       " ('Isaac Benson',),\n",
       " ('Kristopher Lambert',),\n",
       " ('Adam Torres',),\n",
       " ('Steven Johnson',),\n",
       " ('Savannah Alvarez',),\n",
       " ('Jordan Brown',),\n",
       " ('Tammy Gutierrez',),\n",
       " ('Haley Atkinson',),\n",
       " ('Christine Ramos',),\n",
       " ('Leslie Mclaughlin',),\n",
       " ('Shannon Jones',),\n",
       " ('Robert Leach',),\n",
       " ('Lori Wang',),\n",
       " ('Kristen Booker',),\n",
       " ('Thomas Combs',),\n",
       " ('Brittany Gentry',),\n",
       " ('Veronica Nelson',),\n",
       " ('Janet Williams',),\n",
       " ('Nicholas Knapp',),\n",
       " ('Gregory Adams',),\n",
       " ('Timothy King',),\n",
       " ('Phillip Harris',),\n",
       " ('Adam Guzman',),\n",
       " ('Christopher Hall',),\n",
       " ('Jesse Macdonald',),\n",
       " ('James Lindsey',),\n",
       " ('Jon Cabrera',),\n",
       " ('Jade Miller',),\n",
       " ('Alison Johnson',),\n",
       " ('Victoria Gonzalez',),\n",
       " ('Daniel Green',),\n",
       " ('Douglas Garrison',),\n",
       " ('Jennifer Parsons',),\n",
       " ('Melissa Bailey',),\n",
       " ('Kimberly Green',),\n",
       " ('Barbara Bowen',),\n",
       " ('Amy Rich',),\n",
       " ('Chelsey Parker',),\n",
       " ('Mark Avila',),\n",
       " ('Charles Baird',),\n",
       " ('Jodi Thomas',),\n",
       " ('Linda Huber',),\n",
       " ('Lisa Powell',),\n",
       " ('Collin Nelson',),\n",
       " ('Christine Turner',),\n",
       " ('Jesse Moon',),\n",
       " ('Jackie Chambers',),\n",
       " ('Jeffrey Holmes',),\n",
       " ('Amber Howell',),\n",
       " ('Thomas Sanchez',),\n",
       " ('Brandy Price',),\n",
       " ('Joseph Jensen',),\n",
       " ('Steven Foster',),\n",
       " ('Shawn Willis',),\n",
       " ('Patrick Esparza',),\n",
       " ('Megan Schultz',),\n",
       " ('Jason Martin',),\n",
       " ('Justin Velasquez',),\n",
       " ('Nicholas Martinez',),\n",
       " ('Amanda Butler',),\n",
       " ('Jasmine Baker',),\n",
       " ('Jesse Bruce',),\n",
       " ('Anthony Jones',),\n",
       " ('Steven Snyder',),\n",
       " ('Nicholas Mckenzie',),\n",
       " ('Lance Jones',),\n",
       " ('Kimberly Middleton',),\n",
       " ('Allen Bell',),\n",
       " ('Rachel Alexander',),\n",
       " ('Jake Thomas',),\n",
       " ('Linda Gonzalez',),\n",
       " ('Tammy Bond',),\n",
       " ('Brittany Rodriguez',),\n",
       " ('Joyce Maldonado DDS',),\n",
       " ('Bryan Keller',),\n",
       " ('Joshua Barrera II',),\n",
       " ('Michael Garcia',),\n",
       " ('Kathleen Holt',),\n",
       " ('Raymond Cook',),\n",
       " ('Catherine Lee',),\n",
       " ('Christopher Farley',),\n",
       " ('Nathan West DDS',),\n",
       " ('Marissa Maldonado',),\n",
       " ('Tommy Thompson',),\n",
       " ('Alyssa Mcdonald',),\n",
       " ('Mrs. Amy Chen',),\n",
       " ('Matthew Moore',),\n",
       " ('Christopher Williams',),\n",
       " ('Thomas King',),\n",
       " ('Jeremiah Boyle',),\n",
       " ('Kenneth Collins',),\n",
       " ('Michael Romero',),\n",
       " ('Emma Alexander',),\n",
       " ('April King',),\n",
       " ('James Wells',),\n",
       " ('Kyle Lin',),\n",
       " ('Barbara Hinton',),\n",
       " ('Bradley Hernandez',),\n",
       " ('Steven Murray',),\n",
       " ('Jacob Patrick',),\n",
       " ('Valerie Gaines',),\n",
       " ('Jose Richardson',),\n",
       " ('Tami Ford',),\n",
       " ('Cynthia Bush',),\n",
       " ('Carol Turner',),\n",
       " ('Brenda Maxwell',),\n",
       " ('Terri Williams',),\n",
       " ('Timothy Walter',),\n",
       " ('Laura Lewis',),\n",
       " ('Jennifer Cordova',),\n",
       " ('Chad Mclean',),\n",
       " ('Patricia Gardner',),\n",
       " ('Dawn Kline',),\n",
       " ('Anna Drake',),\n",
       " ('Kyle Berry',),\n",
       " ('Janice Newton',),\n",
       " ('Maurice Green',),\n",
       " ('Dana Taylor',),\n",
       " ('Wendy Lewis',),\n",
       " ('Rebecca Wilkins',),\n",
       " ('Daniel Olsen',),\n",
       " ('Jason Bailey',),\n",
       " ('Kelly Richardson MD',),\n",
       " ('Adam Harris',),\n",
       " ('Antonio Avery',),\n",
       " ('Jeffery Black',),\n",
       " ('Frank Harris',),\n",
       " ('William Walter',),\n",
       " ('Zachary Garcia',),\n",
       " ('Suzanne Spencer',),\n",
       " ('Katherine Johnson',),\n",
       " ('Joseph Patrick',),\n",
       " ('Mary Jordan',),\n",
       " ('Mandy Lambert',),\n",
       " ('Zoe Jackson',),\n",
       " ('Richard Flores',),\n",
       " ('David Mcclain',),\n",
       " ('Andrew Chavez',),\n",
       " ('Mrs. Susan Hughes',),\n",
       " ('Adrian Perkins',),\n",
       " ('Vernon Gill MD',),\n",
       " ('Alan Monroe',),\n",
       " ('Nathaniel Davis',),\n",
       " ('Francis Baker',),\n",
       " ('Aaron Turner',),\n",
       " ('Natalie Hall',),\n",
       " ('Andre Harris',),\n",
       " ('Richard Pearson',),\n",
       " ('Henry Aguirre',),\n",
       " ('Tammy Romero',),\n",
       " ('Bryan Martinez',),\n",
       " ('Jason Patel',),\n",
       " ('Carolyn Patrick',),\n",
       " ('Dylan Silva',),\n",
       " ('Kelly Smith',),\n",
       " ('Christine Scott',),\n",
       " ('Sharon Morgan',),\n",
       " ('Matthew Park',),\n",
       " ('Rachel Lee',),\n",
       " ('Max Wallace',),\n",
       " ('Kimberly Ferguson',),\n",
       " ('Hannah Smith DDS',),\n",
       " ('Kara Torres',),\n",
       " ('Jacob French',),\n",
       " ('Jason Nelson',),\n",
       " ('Antonio Miller',),\n",
       " ('Michelle Willis',),\n",
       " ('Jeremy Hall',),\n",
       " ('Shelly Clark',),\n",
       " ('Deborah Craig',),\n",
       " ('Edward Andrews',),\n",
       " ('Melvin Huber',),\n",
       " ('Robert Patrick',),\n",
       " ('David Bautista',),\n",
       " ('Mr. Colton Stone',),\n",
       " ('William Bryan',),\n",
       " ('Lisa Shea',),\n",
       " ('Michael Tapia',),\n",
       " ('Donald Estrada',),\n",
       " ('Terri Alexander',),\n",
       " ('Ricky Herrera',),\n",
       " ('Heidi Williams',),\n",
       " ('Christina Smith',),\n",
       " ('Colleen Thomas',),\n",
       " ('Erin Guzman',),\n",
       " ('Sierra Roman',),\n",
       " ('Todd Bates',),\n",
       " ('Elizabeth Beck',),\n",
       " ('Kathleen Valencia',),\n",
       " ('Eric Gomez',),\n",
       " ('Kyle Johnson',),\n",
       " ('Joyce Griffith',),\n",
       " ('Carol Andrade',),\n",
       " ('Richard Christensen',),\n",
       " ('Richard Hurley',),\n",
       " ('David Rodgers',),\n",
       " ('Kelly Garcia',),\n",
       " ('Anna Ramirez',),\n",
       " ('Bryan Kirby',),\n",
       " ('Ashley Warren',),\n",
       " ('Christina Smith',),\n",
       " ('Michelle King',),\n",
       " ('Steven Garrett',),\n",
       " ('Kathleen Faulkner',),\n",
       " ('Jennifer Hall',),\n",
       " ('Mark Hardin',),\n",
       " ('Michael Jones',),\n",
       " ('Leslie Bell',),\n",
       " ('Chelsea Harding',),\n",
       " ('Leonard Mitchell',),\n",
       " ('Monique Rogers',),\n",
       " ('Alyssa Yates',),\n",
       " ('Andrew Jones',),\n",
       " ('Sarah Brown',),\n",
       " ('Joseph Vargas',),\n",
       " ('Hannah Cochran',),\n",
       " ('Jason Hall',),\n",
       " ('Michael Sanders',),\n",
       " ('Renee Morris',),\n",
       " ('Jason Thompson',),\n",
       " ('Ryan Phelps',),\n",
       " ('Anne Davis',),\n",
       " ('Courtney Bridges',),\n",
       " ('Jeffrey King',),\n",
       " ('Kimberly Holt',),\n",
       " ('Stephanie Calhoun',),\n",
       " ('David Coleman',),\n",
       " ('Angela Black',),\n",
       " ('Richard Thomas',),\n",
       " ('Danielle Strickland',),\n",
       " ('Kimberly Reid',),\n",
       " ('Tyler Contreras',),\n",
       " ('Ashley Nunez',),\n",
       " ('Lisa Page',),\n",
       " ('Victoria Garcia',),\n",
       " ('Sharon Beltran',),\n",
       " ('Amy Davis',))"
      ]
     },
     "execution_count": 54,
     "metadata": {},
     "output_type": "execute_result"
    }
   ],
   "source": [
    "cursor.fetchall()"
   ]
  },
  {
   "cell_type": "code",
   "execution_count": 62,
   "id": "9ec460c4-e4a2-4a4c-8172-c435dbc72d6f",
   "metadata": {},
   "outputs": [],
   "source": [
    "n = '''select \n",
    "       min(income), \n",
    "       occupation\n",
    "       from customers\n",
    "       group by occupation '''"
   ]
  },
  {
   "cell_type": "code",
   "execution_count": 59,
   "id": "24addd30-cf7e-4217-8565-7850c7acfe92",
   "metadata": {},
   "outputs": [
    {
     "data": {
      "text/plain": [
       "6"
      ]
     },
     "execution_count": 59,
     "metadata": {},
     "output_type": "execute_result"
    }
   ],
   "source": [
    "cursor.execute(r)"
   ]
  },
  {
   "cell_type": "code",
   "execution_count": 60,
   "id": "395267b1-0c06-47d4-bf2f-cbc1128de0ef",
   "metadata": {},
   "outputs": [
    {
     "data": {
      "text/plain": [
       "((198490, 'Designer'),\n",
       " (195484, 'Doctor'),\n",
       " (194120, 'Teacher'),\n",
       " (194530, 'Software Engineer'),\n",
       " (199163, 'Banker'),\n",
       " (199628, 'Consultant'))"
      ]
     },
     "execution_count": 60,
     "metadata": {},
     "output_type": "execute_result"
    }
   ],
   "source": [
    "cursor.fetchall()"
   ]
  },
  {
   "cell_type": "code",
   "execution_count": 61,
   "id": "6caad2bd-c3f1-4cf1-b35b-6dd1a0a7e213",
   "metadata": {},
   "outputs": [],
   "source": [
    "def abc(b):\n",
    "    cursor.execute(b)\n",
    "    cursor.fetchall()"
   ]
  },
  {
   "cell_type": "code",
   "execution_count": 64,
   "id": "1af9634e-6544-4b29-a1f5-f77b1d20f9bb",
   "metadata": {},
   "outputs": [
    {
     "data": {
      "text/plain": [
       "6"
      ]
     },
     "execution_count": 64,
     "metadata": {},
     "output_type": "execute_result"
    }
   ],
   "source": [
    "cursor.execute(n)"
   ]
  },
  {
   "cell_type": "code",
   "execution_count": 65,
   "id": "4f1a4935-44bb-49fa-8dc7-d3d6a84e1e0f",
   "metadata": {},
   "outputs": [
    {
     "data": {
      "text/plain": [
       "((28989, 'Designer'),\n",
       " (25492, 'Doctor'),\n",
       " (28862, 'Teacher'),\n",
       " (27228, 'Software Engineer'),\n",
       " (27153, 'Banker'),\n",
       " (25419, 'Consultant'))"
      ]
     },
     "execution_count": 65,
     "metadata": {},
     "output_type": "execute_result"
    }
   ],
   "source": [
    "cursor.fetchall()"
   ]
  },
  {
   "cell_type": "code",
   "execution_count": 71,
   "id": "7668f10f-088a-422a-b386-715f0268d9b0",
   "metadata": {},
   "outputs": [],
   "source": [
    "q = '''select distinct city from customers'''"
   ]
  },
  {
   "cell_type": "code",
   "execution_count": 72,
   "id": "57a55e35-207f-4a9e-8042-d95ba36731fc",
   "metadata": {},
   "outputs": [
    {
     "data": {
      "text/plain": [
       "6"
      ]
     },
     "execution_count": 72,
     "metadata": {},
     "output_type": "execute_result"
    }
   ],
   "source": [
    "cursor.execute(q)"
   ]
  },
  {
   "cell_type": "code",
   "execution_count": 73,
   "id": "8fc08429-1e00-48c2-bf63-d64a49cd1f71",
   "metadata": {},
   "outputs": [
    {
     "data": {
      "text/plain": [
       "(('Kolkata',),\n",
       " ('Chennai',),\n",
       " ('Delhi',),\n",
       " ('Bangalore',),\n",
       " ('Mumbai',),\n",
       " ('Hyderabad',))"
      ]
     },
     "execution_count": 73,
     "metadata": {},
     "output_type": "execute_result"
    }
   ],
   "source": [
    "# Total number of uniques city \n",
    "cursor.fetchall()"
   ]
  },
  {
   "cell_type": "code",
   "execution_count": 74,
   "id": "52d68a43-43d3-4c0d-9ffc-ddfb44d220eb",
   "metadata": {},
   "outputs": [],
   "source": [
    "b= '''select occupation , city , gender \n",
    "       from customers \n",
    "       count(gender) over(partition by occupation)\n",
    "       '''"
   ]
  },
  {
   "cell_type": "code",
   "execution_count": 69,
   "id": "b197fa28-1e2e-4ed5-8ffe-c8d26620741e",
   "metadata": {},
   "outputs": [
    {
     "data": {
      "text/html": [
       "<div>\n",
       "<style scoped>\n",
       "    .dataframe tbody tr th:only-of-type {\n",
       "        vertical-align: middle;\n",
       "    }\n",
       "\n",
       "    .dataframe tbody tr th {\n",
       "        vertical-align: top;\n",
       "    }\n",
       "\n",
       "    .dataframe thead th {\n",
       "        text-align: right;\n",
       "    }\n",
       "</style>\n",
       "<table border=\"1\" class=\"dataframe\">\n",
       "  <thead>\n",
       "    <tr style=\"text-align: right;\">\n",
       "      <th></th>\n",
       "      <th>customer_id</th>\n",
       "      <th>name</th>\n",
       "      <th>age</th>\n",
       "      <th>gender</th>\n",
       "      <th>income</th>\n",
       "      <th>occupation</th>\n",
       "      <th>city</th>\n",
       "    </tr>\n",
       "  </thead>\n",
       "  <tbody>\n",
       "    <tr>\n",
       "      <th>0</th>\n",
       "      <td>C0001</td>\n",
       "      <td>Stacy Wilson</td>\n",
       "      <td>45</td>\n",
       "      <td>F</td>\n",
       "      <td>127691</td>\n",
       "      <td>Designer</td>\n",
       "      <td>Kolkata</td>\n",
       "    </tr>\n",
       "    <tr>\n",
       "      <th>1</th>\n",
       "      <td>C0002</td>\n",
       "      <td>Jessica Khan</td>\n",
       "      <td>46</td>\n",
       "      <td>M</td>\n",
       "      <td>150464</td>\n",
       "      <td>Doctor</td>\n",
       "      <td>Chennai</td>\n",
       "    </tr>\n",
       "    <tr>\n",
       "      <th>2</th>\n",
       "      <td>C0003</td>\n",
       "      <td>Brian Garcia</td>\n",
       "      <td>62</td>\n",
       "      <td>F</td>\n",
       "      <td>115846</td>\n",
       "      <td>Designer</td>\n",
       "      <td>Kolkata</td>\n",
       "    </tr>\n",
       "    <tr>\n",
       "      <th>3</th>\n",
       "      <td>C0004</td>\n",
       "      <td>Travis Santiago</td>\n",
       "      <td>43</td>\n",
       "      <td>F</td>\n",
       "      <td>136684</td>\n",
       "      <td>Teacher</td>\n",
       "      <td>Delhi</td>\n",
       "    </tr>\n",
       "    <tr>\n",
       "      <th>4</th>\n",
       "      <td>C0005</td>\n",
       "      <td>Rachel Rivera</td>\n",
       "      <td>37</td>\n",
       "      <td>F</td>\n",
       "      <td>170764</td>\n",
       "      <td>Software Engineer</td>\n",
       "      <td>Bangalore</td>\n",
       "    </tr>\n",
       "  </tbody>\n",
       "</table>\n",
       "</div>"
      ],
      "text/plain": [
       "  customer_id             name  age gender  income         occupation  \\\n",
       "0       C0001     Stacy Wilson   45      F  127691           Designer   \n",
       "1       C0002     Jessica Khan   46      M  150464             Doctor   \n",
       "2       C0003     Brian Garcia   62      F  115846           Designer   \n",
       "3       C0004  Travis Santiago   43      F  136684            Teacher   \n",
       "4       C0005    Rachel Rivera   37      F  170764  Software Engineer   \n",
       "\n",
       "        city  \n",
       "0    Kolkata  \n",
       "1    Chennai  \n",
       "2    Kolkata  \n",
       "3      Delhi  \n",
       "4  Bangalore  "
      ]
     },
     "execution_count": 69,
     "metadata": {},
     "output_type": "execute_result"
    }
   ],
   "source": []
  },
  {
   "cell_type": "code",
   "execution_count": null,
   "id": "ce324053-10e1-4866-805b-8aed4c048703",
   "metadata": {},
   "outputs": [],
   "source": []
  }
 ],
 "metadata": {
  "kernelspec": {
   "display_name": "Python 3 (ipykernel)",
   "language": "python",
   "name": "python3"
  },
  "language_info": {
   "codemirror_mode": {
    "name": "ipython",
    "version": 3
   },
   "file_extension": ".py",
   "mimetype": "text/x-python",
   "name": "python",
   "nbconvert_exporter": "python",
   "pygments_lexer": "ipython3",
   "version": "3.12.7"
  }
 },
 "nbformat": 4,
 "nbformat_minor": 5
}
